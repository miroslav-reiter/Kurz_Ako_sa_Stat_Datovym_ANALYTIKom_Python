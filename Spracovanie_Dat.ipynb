{
 "cells": [
  {
   "cell_type": "markdown",
   "id": "721de176",
   "metadata": {},
   "source": [
    "# 🐍 Ako sa stat Python Analytik # (alt + 35)"
   ]
  },
  {
   "cell_type": "markdown",
   "id": "c28ff67b",
   "metadata": {},
   "source": [
    "## I. Tlač (výpis), komentáre, kódovanie, dokumentácia"
   ]
  },
  {
   "cell_type": "code",
   "execution_count": 46,
   "id": "aa101dff",
   "metadata": {},
   "outputs": [
    {
     "name": "stdout",
     "output_type": "stream",
     "text": [
      "Requirement already satisfied: cowsay in c:\\programdata\\anaconda3\\lib\\site-packages (4.0)\n",
      "  _____________\n",
      "| Ahoj analytik |\n",
      "  =============\n",
      "             \\\n",
      "              \\\n",
      "                ^__^\n",
      "                (oo)\\_______\n",
      "                (__)\\       )\\/\\\n",
      "                    ||----w |\n",
      "                    ||     ||\n",
      "Ahoj Python\n",
      "Ahoj Python\n",
      "Ahoj Python\n",
      "🐍 \n",
      "Toto je docstring (Document string)\n",
      "    Autor\n",
      "    Verzia\n",
      "    Datum\n",
      "\n",
      "\n",
      "Co bolo skorej? -->  🐔\n"
     ]
    }
   ],
   "source": [
    "# -*- coding: utf-8 -*-\n",
    "import pyttsx3\n",
    "# import nieco from pyttsx3\n",
    "!pip install cowsay\n",
    "import cowsay\n",
    "\n",
    "cowsay.cow(\"Ahoj analytik\")\n",
    "\n",
    "# engine = pyttsx3.init()\n",
    "# rate = engine.getProperty(\"rate\")\n",
    "\n",
    "# engine.setProperty(\"rate\", 100)\n",
    "# engine.say(\"Hello, i am future analyst\")\n",
    "# engine.runAndWait()\n",
    "\n",
    "# Toto je komentár (jednoriadkový)\n",
    "print(\"Ahoj Python\")\n",
    "\n",
    "\"\"\"Toto je docstring (Document string)\n",
    "    Autor\n",
    "    Verzia\n",
    "    Datum\n",
    "\n",
    "\"\"\"\n",
    "\n",
    "# Ctrl + / (Zakomentovanie)\n",
    "print(\"Ahoj Python\")\n",
    "print(\"Ahoj Python\")\n",
    "\n",
    "print(\"🐍 \")\n",
    "print(__doc__)\n",
    "\n",
    "\n",
    "print(\"Co bolo skorej? --> \", min(['\\N{CHICKEN}', '\\N{EGG}']))\n",
    "\n"
   ]
  },
  {
   "cell_type": "markdown",
   "id": "666437cc",
   "metadata": {},
   "source": [
    "## II. Spracovanie údajov, dátové typy, import z CSV"
   ]
  },
  {
   "cell_type": "code",
   "execution_count": 15,
   "id": "f00a13f9",
   "metadata": {},
   "outputs": [
    {
     "name": "stdout",
     "output_type": "stream",
     "text": [
      "Hodnota je: True , Typ je: <class 'bool'>\n",
      "Hodnota je: Hypoteka pre mladych , Typ je: <class 'str'>\n",
      "Hodnota je: 32 , Typ je: <class 'int'>\n",
      "Hodnota je: 1689.23 , Typ je: <class 'float'>\n"
     ]
    }
   ],
   "source": [
    "# bool/boolean (logicka premenna)\n",
    "# nazov_premenne = hodnota\n",
    "je_skladom = True\n",
    "print(\"Hodnota je:\", je_skladom, \", Typ je:\", type(je_skladom))\n",
    "\n",
    "# str/string (retazec)\n",
    "nazov_produktu = \"Hypoteka pre mladych\"\n",
    "print(\"Hodnota je:\", nazov_produktu, \", Typ je:\", type(nazov_produktu))\n",
    "\n",
    "# int/integer (cele cisla)\n",
    "pocet_jablk = 32\n",
    "print(\"Hodnota je:\", pocet_jablk, \", Typ je:\", type(pocet_jablk))\n",
    "\n",
    "# float (realne cisla)\n",
    "mzda_analytik = 1689.23\n",
    "print(\"Hodnota je:\", mzda_analytik, \", Typ je:\", type(mzda_analytik))\n",
    "\n",
    "\n",
    "        "
   ]
  },
  {
   "cell_type": "markdown",
   "id": "50cf53cd",
   "metadata": {},
   "source": [
    "## III. Importy, dátumy a časy"
   ]
  },
  {
   "cell_type": "code",
   "execution_count": 26,
   "id": "888fc592",
   "metadata": {},
   "outputs": [
    {
     "name": "stdout",
     "output_type": "stream",
     "text": [
      "<module 'datetime' from 'C:\\\\ProgramData\\\\Anaconda3\\\\lib\\\\datetime.py'>\n",
      "Fast implementation of the datetime type.\n",
      "['MAXYEAR', 'MINYEAR', '__all__', '__builtins__', '__cached__', '__doc__', '__file__', '__loader__', '__name__', '__package__', '__spec__', 'date', 'datetime', 'datetime_CAPI', 'sys', 'time', 'timedelta', 'timezone', 'tzinfo']\n",
      "\n",
      "\n",
      "Dnes je:  2022-04-05 19:13:33.830871\n"
     ]
    }
   ],
   "source": [
    "import datetime\n",
    "print(datetime)\n",
    "print(datetime.__doc__)\n",
    "print(dir(datetime))\n",
    "# print(help(datetime))\n",
    "\n",
    "dnes = datetime.datetime.now()\n",
    "print(\"\\n\\nDnes je: \", dnes)"
   ]
  },
  {
   "cell_type": "markdown",
   "id": "a6ee6e69",
   "metadata": {},
   "source": [
    "## IV. PIP, stiahovanie, inštalácia modulov"
   ]
  },
  {
   "cell_type": "code",
   "execution_count": 42,
   "id": "bfdac2ec",
   "metadata": {},
   "outputs": [],
   "source": [
    "# !pip show pyttsx3\n",
    "# # numpy, pandas, matplotlib, scipy\n",
    "# !pip show numpy\n",
    "# # !pip install -r requirements.txt\n",
    "# !pip install gtts\n",
    "# !pip show gtts\n",
    "\n",
    "from gtts import gTTS\n",
    "krabicka = gTTS(\"Hello, i am future analyst\")\n",
    "krabicka.save(\"analyst.mp3\")\n",
    "\n",
    "\n"
   ]
  },
  {
   "cell_type": "markdown",
   "id": "60aafd17",
   "metadata": {},
   "source": [
    "## V. Grafy, Import CSV"
   ]
  },
  {
   "cell_type": "code",
   "execution_count": 58,
   "id": "f70cdc5d",
   "metadata": {},
   "outputs": [
    {
     "data": {
      "image/png": "[encoded data removed]",
      "text/plain": [
       "<Figure size 432x288 with 1 Axes>"
      ]
     },
     "metadata": {
      "needs_background": "light"
     },
     "output_type": "display_data"
    }
   ],
   "source": [
    "import pandas as pd\n",
    "from matplotlib import pyplot as plt\n",
    "\n",
    "# Zoznamy (Lists)\n",
    "x = [1, 2, 3, 4, 5]\n",
    "y = [1, 4, 9, 16, 25]\n",
    "z = [10, 8, 6, 4, 2]\n",
    "\n",
    "# Princip identity kto.co, objekt/premenna.funkcia/definicia\n",
    "plt.title(\"Super turbo graf\")\n",
    "plt.xlabel(\"Cas\")\n",
    "plt.ylabel(\"Mzda\")\n",
    "plt.plot(x, y)\n",
    "plt.plot(x, z)\n",
    "plt.legend([\"x je cas\", \"y je mzda\"])\n",
    "plt.show()\n",
    "\n",
    "# print(\"Hodnota je:\", x, \", Typ je:\", type(x))\n",
    "\n",
    "\n"
   ]
  },
  {
   "cell_type": "code",
   "execution_count": 71,
   "id": "15a88252",
   "metadata": {},
   "outputs": [
    {
     "name": "stdout",
     "output_type": "stream",
     "text": [
      "Typ je: <class 'pandas.core.frame.DataFrame'>\n"
     ]
    },
    {
     "data": {
      "image/png": "[encoded data removed]",
      "text/plain": [
       "<Figure size 432x288 with 1 Axes>"
      ]
     },
     "metadata": {
      "needs_background": "light"
     },
     "output_type": "display_data"
    }
   ],
   "source": [
    "import pandas as pd\n",
    "from matplotlib import pyplot as plt\n",
    "\n",
    "vzorove_data = pd.read_csv(\"sample_data.csv\")\n",
    "\n",
    "print(\"Typ je:\", type(vzorove_data))\n",
    "vzorove_data\n",
    "\n",
    "plt.plot(vzorove_data.column_a, vzorove_data.column_b, \"o\")\n",
    "plt.show()"
   ]
  },
  {
   "cell_type": "code",
   "execution_count": 100,
   "id": "efd60679",
   "metadata": {},
   "outputs": [
    {
     "data": {
      "image/png": "[encoded data removed]",
      "text/plain": [
       "<Figure size 432x288 with 1 Axes>"
      ]
     },
     "metadata": {
      "needs_background": "light"
     },
     "output_type": "display_data"
    },
    {
     "data": {
      "text/plain": [
       "1368    3558137\n",
       "1369    3844277\n",
       "1370    4237384\n",
       "1371    4442238\n",
       "1372    4593433\n",
       "1373    4827803\n",
       "1374    5048043\n",
       "1375    5199318\n",
       "1376    5302888\n",
       "1377    5383010\n",
       "1378    5410052\n",
       "1379    5447502\n",
       "Name: population, dtype: int64"
      ]
     },
     "execution_count": 100,
     "metadata": {},
     "output_type": "execute_result"
    }
   ],
   "source": [
    "import pandas as pd\n",
    "from matplotlib import pyplot as plt\n",
    "\n",
    "krajiny = pd.read_csv(\"countries.csv\")\n",
    "\n",
    "\n",
    "slovensko = krajiny[krajiny.country == \"Slovak Republic\"]\n",
    "cesko = krajiny[krajiny.country == \"Czech Republic\"]\n",
    "\n",
    "plt.title(\"Analyza obyvatelstva v strednej Europe\")\n",
    "plt.xlabel(\"Roky\")\n",
    "plt.ylabel(\"Pocet obyvatelov v mil\")\n",
    "plt.plot(slovensko.year, slovensko.population / 10**6)\n",
    "plt.plot(cesko.year, cesko.population / 10**6)\n",
    "plt.legend([\"Slovensko\",\"Cesko\"])\n",
    "plt.show()\n",
    "\n",
    "slovensko.population"
   ]
  },
  {
   "cell_type": "markdown",
   "id": "9afeae91",
   "metadata": {},
   "source": [
    "## VI. Operácie (aritmetické/matematické) "
   ]
  },
  {
   "cell_type": "code",
   "execution_count": 94,
   "id": "87176749",
   "metadata": {},
   "outputs": [
    {
     "name": "stdout",
     "output_type": "stream",
     "text": [
      "11\n",
      "32\n",
      "2.5\n",
      "2\n",
      "1\n",
      "Matematicke funkcie/defincie: \n",
      "399.99\n",
      "159.59000000000003\n",
      "-500\n",
      "8\n",
      "32.0\n",
      "9.0\n",
      "3.141592653589793\n"
     ]
    }
   ],
   "source": [
    "import builtins\n",
    "import math\n",
    "\n",
    "print(5 + 6)\n",
    "print(2 ** 5)\n",
    "print(5 / 2)\n",
    "print(5 // 2)\n",
    "print(5 % 2)\n",
    "\n",
    "data = [-100, 3.6, 0, 250, 86, 399.99, -500, 20]\n",
    "print(\"Matematicke funkcie/defincie: \")\n",
    "print(max(data))\n",
    "print(sum(data))\n",
    "print(min(data))\n",
    "print(len(data))\n",
    "\n",
    "print(math.pow(2,5))\n",
    "print(math.sqrt(81))\n",
    "print(math.pi)"
   ]
  },
  {
   "cell_type": "markdown",
   "id": "a73033ec",
   "metadata": {},
   "source": [
    "## VII. Prvé/posledné záznamy (riadky)"
   ]
  },
  {
   "cell_type": "code",
   "execution_count": 104,
   "id": "3b386773",
   "metadata": {},
   "outputs": [
    {
     "data": {
      "text/html": [
       "<div>\n",
       "<style scoped>\n",
       "    .dataframe tbody tr th:only-of-type {\n",
       "        vertical-align: middle;\n",
       "    }\n",
       "\n",
       "    .dataframe tbody tr th {\n",
       "        vertical-align: top;\n",
       "    }\n",
       "\n",
       "    .dataframe thead th {\n",
       "        text-align: right;\n",
       "    }\n",
       "</style>\n",
       "<table border=\"1\" class=\"dataframe\">\n",
       "  <thead>\n",
       "    <tr style=\"text-align: right;\">\n",
       "      <th></th>\n",
       "      <th>country</th>\n",
       "      <th>year</th>\n",
       "      <th>population</th>\n",
       "    </tr>\n",
       "  </thead>\n",
       "  <tbody>\n",
       "    <tr>\n",
       "      <th>0</th>\n",
       "      <td>Afghanistan</td>\n",
       "      <td>1952</td>\n",
       "      <td>8425333</td>\n",
       "    </tr>\n",
       "    <tr>\n",
       "      <th>1</th>\n",
       "      <td>Afghanistan</td>\n",
       "      <td>1957</td>\n",
       "      <td>9240934</td>\n",
       "    </tr>\n",
       "    <tr>\n",
       "      <th>2</th>\n",
       "      <td>Afghanistan</td>\n",
       "      <td>1962</td>\n",
       "      <td>10267083</td>\n",
       "    </tr>\n",
       "  </tbody>\n",
       "</table>\n",
       "</div>"
      ],
      "text/plain": [
       "       country  year  population\n",
       "0  Afghanistan  1952     8425333\n",
       "1  Afghanistan  1957     9240934\n",
       "2  Afghanistan  1962    10267083"
      ]
     },
     "execution_count": 104,
     "metadata": {},
     "output_type": "execute_result"
    }
   ],
   "source": [
    "import pandas as pd\n",
    "from matplotlib import pyplot as plt\n",
    "\n",
    "krajiny = pd.read_csv(\"countries.csv\")\n",
    "krajiny.head(3)\n",
    "# krajiny.tail(3)"
   ]
  },
  {
   "cell_type": "code",
   "execution_count": null,
   "id": "e7eb2381",
   "metadata": {},
   "outputs": [],
   "source": []
  }
 ],
 "metadata": {
  "kernelspec": {
   "display_name": "Python 3 (ipykernel)",
   "language": "python",
   "name": "python3"
  },
  "language_info": {
   "codemirror_mode": {
    "name": "ipython",
    "version": 3
   },
   "file_extension": ".py",
   "mimetype": "text/x-python",
   "name": "python",
   "nbconvert_exporter": "python",
   "pygments_lexer": "ipython3",
   "version": "3.9.7"
  }
 },
 "nbformat": 4,
 "nbformat_minor": 5
}
