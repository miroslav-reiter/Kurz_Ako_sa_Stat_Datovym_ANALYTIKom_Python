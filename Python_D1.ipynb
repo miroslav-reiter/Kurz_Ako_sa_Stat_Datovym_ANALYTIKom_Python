{
 "cells": [
  {
   "attachments": {},
   "cell_type": "markdown",
   "id": "58b58c31",
   "metadata": {},
   "source": [
    "# 🐍 Základy programovacieho jazyka Python (alt + 35)"
   ]
  },
  {
   "cell_type": "markdown",
   "id": "c7d2a49b",
   "metadata": {},
   "source": [
    "## I. Tlač (výpis), komentáre, kódovanie, dokumentácie "
   ]
  },
  {
   "cell_type": "code",
   "execution_count": 7,
   "id": "471affb8",
   "metadata": {},
   "outputs": [
    {
     "name": "stdout",
     "output_type": "stream",
     "text": [
      "Ahoj Python...\n",
      "Ahoj Python...\n",
      "Ahoj Python...\n",
      " Toto je docstring (Document string)\n",
      "    Notebook, v ktorom analyzujeme ...\n",
      "    Autor: \n",
      "    Verzia:\n",
      "    \n",
      "\n",
      "🐍\n",
      "Co bolo skorej? -->  🐔\n"
     ]
    }
   ],
   "source": [
    "# -*- coding: utf-8 -*-\n",
    "# Toto je komentar (jednoriadkovy)\n",
    "print(\"Ahoj Python...\")\n",
    "print('Ahoj Python...')\n",
    "print(\"Ahoj Python...\")\n",
    "\n",
    "# Ctrl + /\n",
    "# print(\"Ahoj Python...\")\n",
    "# print(\"Ahoj Python...\")\n",
    "\n",
    "\"\"\" Toto je docstring (Document string)\n",
    "    Notebook, v ktorom analyzujeme ...\n",
    "    Autor: \n",
    "    Verzia:\n",
    "    \n",
    "\"\"\"\n",
    "\n",
    "print(__doc__)\n",
    "print(\"🐍\")\n",
    "print(\"Co bolo skorej? --> \", min(['\\N{CHICKEN}', '\\N{EGG}']))\n",
    "\n"
   ]
  },
  {
   "cell_type": "markdown",
   "id": "3d3282c1",
   "metadata": {},
   "source": [
    "## II. Dátové typy, premenné "
   ]
  },
  {
   "cell_type": "code",
   "execution_count": 17,
   "id": "eb46b900",
   "metadata": {},
   "outputs": [
    {
     "name": "stdout",
     "output_type": "stream",
     "text": [
      "Hodnota je: True , Typ je: <class 'bool'>\n",
      "Hodnota je: Kurz Python , Typ je: <class 'str'>\n",
      "Hodnota je: 13 , Typ je: <class 'int'>\n",
      "Hodnota je: 1689.23 , Typ je: <class 'float'>\n",
      "Hodnota je: b'Ahoj' , Typ je: <class 'bytes'>\n",
      "Hodnota je: <memory at 0x000001FF6745FB80> , Typ je: <class 'memoryview'>\n"
     ]
    }
   ],
   "source": [
    "# bool/boolean logická premenná\n",
    "# nazov_premmennej = hodnota\n",
    "je_skladom = True\n",
    "print(\"Hodnota je:\", je_skladom, \", Typ je:\", type(je_skladom))\n",
    "\n",
    "# str/string retazec\n",
    "nazov_produkt = \"Kurz Python\"\n",
    "print(\"Hodnota je:\", nazov_produkt, \", Typ je:\", type(nazov_produkt))\n",
    "\n",
    "# int/integer cele cisla\n",
    "pocet_jablk = 13\n",
    "print(\"Hodnota je:\", pocet_jablk, \", Typ je:\", type(pocet_jablk))\n",
    "\n",
    "# float/realne cisla\n",
    "mzda_programator = 1689.23\n",
    "print(\"Hodnota je:\", mzda_programator, \", Typ je:\", type(mzda_programator))\n",
    "\n",
    "# bytes (bajty)\n",
    "a = b\"Ahoj\"\n",
    "print(\"Hodnota je:\", a, \", Typ je:\", type(a))\n",
    "\n",
    "# memoryview (adresa v pamati) 0-9A-F\n",
    "b = memoryview(bytes(12))\n",
    "print(\"Hodnota je:\", b, \", Typ je:\", type(b))\n",
    "\n"
   ]
  },
  {
   "cell_type": "markdown",
   "id": "a23e5817",
   "metadata": {},
   "source": [
    "## III. Importy, datetime"
   ]
  },
  {
   "cell_type": "code",
   "execution_count": 43,
   "id": "58a7c682",
   "metadata": {},
   "outputs": [
    {
     "name": "stdout",
     "output_type": "stream",
     "text": [
      "<module 'datetime' from 'C:\\\\ProgramData\\\\Anaconda3\\\\lib\\\\datetime.py'>\n",
      "<module 'time' (built-in)>\n",
      "<module 'os' from 'C:\\\\ProgramData\\\\Anaconda3\\\\lib\\\\os.py'>\n",
      "<module 'math' (built-in)>\n",
      "Dnes je: 2022-04-06 10:48:38.850020\n",
      "\n",
      "\n",
      "Obsah modulu datetime ['MAXYEAR', 'MINYEAR', '__all__', '__builtins__', '__cached__', '__doc__', '__file__', '__loader__', '__name__', '__package__', '__spec__', 'date', 'datetime', 'datetime_CAPI', 'sys', 'time', 'timedelta', 'timezone', 'tzinfo']\n",
      "\n",
      "\n",
      "Obsah modulu math ['__doc__', '__loader__', '__name__', '__package__', '__spec__', 'acos', 'acosh', 'asin', 'asinh', 'atan', 'atan2', 'atanh', 'ceil', 'comb', 'copysign', 'cos', 'cosh', 'degrees', 'dist', 'e', 'erf', 'erfc', 'exp', 'expm1', 'fabs', 'factorial', 'floor', 'fmod', 'frexp', 'fsum', 'gamma', 'gcd', 'hypot', 'inf', 'isclose', 'isfinite', 'isinf', 'isnan', 'isqrt', 'lcm', 'ldexp', 'lgamma', 'log', 'log10', 'log1p', 'log2', 'modf', 'nan', 'nextafter', 'perm', 'pi', 'pow', 'prod', 'radians', 'remainder', 'sin', 'sinh', 'sqrt', 'tan', 'tanh', 'tau', 'trunc', 'ulp']\n",
      "\n",
      "\n",
      "Obsah modulu os ['DirEntry', 'F_OK', 'GenericAlias', 'Mapping', 'MutableMapping', 'O_APPEND', 'O_BINARY', 'O_CREAT', 'O_EXCL', 'O_NOINHERIT', 'O_RANDOM', 'O_RDONLY', 'O_RDWR', 'O_SEQUENTIAL', 'O_SHORT_LIVED', 'O_TEMPORARY', 'O_TEXT', 'O_TRUNC', 'O_WRONLY', 'P_DETACH', 'P_NOWAIT', 'P_NOWAITO', 'P_OVERLAY', 'P_WAIT', 'PathLike', 'R_OK', 'SEEK_CUR', 'SEEK_END', 'SEEK_SET', 'TMP_MAX', 'W_OK', 'X_OK', '_AddedDllDirectory', '_Environ', '__all__', '__builtins__', '__cached__', '__doc__', '__file__', '__loader__', '__name__', '__package__', '__spec__', '_check_methods', '_execvpe', '_exists', '_exit', '_fspath', '_get_exports_list', '_walk', '_wrap_close', 'abc', 'abort', 'access', 'add_dll_directory', 'altsep', 'chdir', 'chmod', 'close', 'closerange', 'cpu_count', 'curdir', 'defpath', 'device_encoding', 'devnull', 'dup', 'dup2', 'environ', 'error', 'execl', 'execle', 'execlp', 'execlpe', 'execv', 'execve', 'execvp', 'execvpe', 'extsep', 'fdopen', 'fsdecode', 'fsencode', 'fspath', 'fstat', 'fsync', 'ftruncate', 'get_exec_path', 'get_handle_inheritable', 'get_inheritable', 'get_terminal_size', 'getcwd', 'getcwdb', 'getenv', 'getlogin', 'getpid', 'getppid', 'isatty', 'kill', 'linesep', 'link', 'listdir', 'lseek', 'lstat', 'makedirs', 'mkdir', 'name', 'open', 'pardir', 'path', 'pathsep', 'pipe', 'popen', 'putenv', 'read', 'readlink', 'remove', 'removedirs', 'rename', 'renames', 'replace', 'rmdir', 'scandir', 'sep', 'set_handle_inheritable', 'set_inheritable', 'spawnl', 'spawnle', 'spawnv', 'spawnve', 'st', 'startfile', 'stat', 'stat_result', 'statvfs_result', 'strerror', 'supports_bytes_environ', 'supports_dir_fd', 'supports_effective_ids', 'supports_fd', 'supports_follow_symlinks', 'symlink', 'sys', 'system', 'terminal_size', 'times', 'times_result', 'truncate', 'umask', 'uname_result', 'unlink', 'unsetenv', 'urandom', 'utime', 'waitpid', 'waitstatus_to_exitcode', 'walk', 'write']\n"
     ]
    }
   ],
   "source": [
    "import datetime\n",
    "import time\n",
    "import sys\n",
    "import os\n",
    "import math\n",
    "import re\n",
    "\n",
    "print(datetime)\n",
    "print(time)\n",
    "print(os)\n",
    "print(math)\n",
    "\n",
    "dnes = datetime.datetime.now()\n",
    "print(\"Dnes je:\", dnes)\n",
    "\n",
    "# print(datetime.__doc__)\n",
    "# print(math.__doc__)\n",
    "# print(re.__doc__)\n",
    "# print(sys.__doc__)\n",
    "\n",
    "print(\"\\n\\nObsah modulu\", datetime.__name__ , dir(datetime))\n",
    "print(\"\\n\\nObsah modulu\", math.__name__ , dir(math))\n",
    "print(\"\\n\\nObsah modulu\", os.__name__ , dir(os))\n",
    "\n",
    "# print(help(datetime))"
   ]
  },
  {
   "cell_type": "markdown",
   "id": "10e5b0b4",
   "metadata": {},
   "source": [
    "## IV. Vstupy, pretypovanie (casting)"
   ]
  },
  {
   "cell_type": "code",
   "execution_count": 59,
   "id": "694c6ca5",
   "metadata": {},
   "outputs": [
    {
     "name": "stdout",
     "output_type": "stream",
     "text": [
      "Hodnota je: False , Typ je: <class 'bool'>\n"
     ]
    }
   ],
   "source": [
    "# meno_pouzivatel = input(\"Ako sa volas? -->\")\n",
    "# print(\"Ahoj,\", meno_pouzivatel, \"😉\")\n",
    "\n",
    "# mzda_ocakavana = input(\"Dajte hodnotu ocakavanej mzdy: \")\n",
    "# print(\"Hodnota je:\", mzda_ocakavana, \", Typ je:\", type(mzda_ocakavana))\n",
    "\n",
    "# mzda_ocakavana = int(mzda_ocakavana)\n",
    "# print(\"Hodnota je:\", mzda_ocakavana, \", Typ je:\", type(mzda_ocakavana))\n",
    "\n",
    "# mzda_ocakavana = float(mzda_ocakavana)\n",
    "# print(\"Hodnota je:\", mzda_ocakavana, \", Typ je:\", type(mzda_ocakavana))\n",
    "\n",
    "# mzda_ocakavana = str(mzda_ocakavana)\n",
    "# print(\"Hodnota je:\", mzda_ocakavana, \", Typ je:\", type(mzda_ocakavana))\n",
    "\n",
    "# mzda_ocakavana = bool(mzda_ocakavana)\n",
    "# print(\"Hodnota je:\", mzda_ocakavana, \", Typ je:\", type(mzda_ocakavana))\n",
    "\n",
    "mzda = None\n",
    "mzda_bool = bool(mzda)\n",
    "print(\"Hodnota je:\", mzda_bool, \", Typ je:\", type(mzda_bool))\n",
    "\n"
   ]
  },
  {
   "cell_type": "markdown",
   "id": "b4fb7f3a",
   "metadata": {},
   "source": [
    "## V. Operácie, funkcie, math modul"
   ]
  },
  {
   "cell_type": "code",
   "execution_count": 67,
   "id": "1fe7aa56",
   "metadata": {},
   "outputs": [
    {
     "name": "stdout",
     "output_type": "stream",
     "text": [
      "8\n",
      "-2\n",
      "32\n",
      "2.5\n",
      "2\n",
      "1\n"
     ]
    }
   ],
   "source": [
    "print(5 + 3)\n",
    "print(-5 + 3)\n",
    "# Mocnina\n",
    "print(2 ** 5)\n",
    "\n",
    "# Realne delenie\n",
    "print(5 / 2)\n",
    "\n",
    "# Celelociselne delenie\n",
    "print(5 // 2)\n",
    "\n",
    "# Delenie so zvyskom (modulo)\n",
    "print(5 % 2)"
   ]
  },
  {
   "cell_type": "markdown",
   "id": "2715ed77",
   "metadata": {},
   "source": [
    "## VI. Zoznamy (list), Tice (tuple)"
   ]
  },
  {
   "cell_type": "code",
   "execution_count": 84,
   "id": "8fb73748",
   "metadata": {},
   "outputs": [
    {
     "name": "stdout",
     "output_type": "stream",
     "text": [
      "Hodnota je: ['cierna', 'biela', 'modra', 'cervena'] , Typ je: <class 'list'>\n",
      "Hodnota je: ['S', 'L', 'O', 'V', 'E', 'N', 'S', 'K', 'O'] , Typ je: <class 'list'>\n",
      "Hodnota je: ['Karol', 1, True, 2893.25, []] , Typ je: <class 'list'>\n",
      "Najvacsia hodnota: 9\n",
      "Najmensia hodnota: 1\n",
      "Sucet hodnot: 45\n",
      "Pocet hodnot: 9\n",
      "Zaokruhlenie: 85.64\n",
      "Zaokruhlenie: 85.25\n",
      "Hodnota je: (1, 2, 3, 4, 5) , Typ je: <class 'tuple'>\n",
      "Hodnota je: ('IBM', 'Google', 'Slovnaft') , Typ je: <class 'tuple'>\n",
      "Hodnota je: ('A', 'D', 'A', 'M') , Typ je: <class 'tuple'>\n",
      "Hodnota je: (1, 5) , Typ je: <class 'tuple'>\n"
     ]
    }
   ],
   "source": [
    "import builtins\n",
    "\n",
    "zoznam_farieb = [\"cierna\", \"biela\", \"modra\", \"cervena\"]\n",
    "print(\"Hodnota je:\", zoznam_farieb, \", Typ je:\", type(zoznam_farieb))\n",
    "\n",
    "zoznam_osob = list(\"SLOVENSKO\")\n",
    "print(\"Hodnota je:\", zoznam_osob, \", Typ je:\", type(zoznam_osob))\n",
    "\n",
    "zoznam_miezd = [980.23, 1256.41, 350.91, 1980.23]\n",
    "zoznam_mix = [\"Karol\", 1, True, 2893.25, []]\n",
    "print(\"Hodnota je:\", zoznam_mix, \", Typ je:\", type(zoznam_mix))\n",
    "\n",
    "zoznam_cisla = [1, 2, 3, 4, 5, 6, 7, 8, 9]\n",
    "\n",
    "print(\"Najvacsia hodnota:\", max(zoznam_cisla))\n",
    "print(\"Najmensia hodnota:\", min(zoznam_cisla))\n",
    "print(\"Sucet hodnot:\", sum(zoznam_cisla))\n",
    "print(\"Pocet hodnot:\", len(zoznam_cisla))\n",
    "print(\"Zaokruhlenie:\", round(85.636, 2))\n",
    "print(\"Zaokruhlenie:\", round(85.246, 2))\n",
    "\n",
    "tica_cisel = (1,2,3,4,5)\n",
    "tica_zakaznici = (\"IBM\", \"Google\", \"Slovnaft\")\n",
    "tica_znaky = tuple(\"ADAM\")\n",
    "\n",
    "print(\"Hodnota je:\", tica_cisel, \", Typ je:\", type(tica_cisel))\n",
    "print(\"Hodnota je:\", tica_zakaznici, \", Typ je:\", type(tica_zakaznici))\n",
    "print(\"Hodnota je:\", tica_znaky, \", Typ je:\", type(tica_znaky))\n",
    "\n",
    "x = 1,5\n",
    "print(\"Hodnota je:\", x, \", Typ je:\", type(x))\n",
    "\n"
   ]
  },
  {
   "cell_type": "code",
   "execution_count": null,
   "id": "e115c0e0",
   "metadata": {},
   "outputs": [],
   "source": []
  }
 ],
 "metadata": {
  "kernelspec": {
   "display_name": "Python 3 (ipykernel)",
   "language": "python",
   "name": "python3"
  },
  "language_info": {
   "codemirror_mode": {
    "name": "ipython",
    "version": 3
   },
   "file_extension": ".py",
   "mimetype": "text/x-python",
   "name": "python",
   "nbconvert_exporter": "python",
   "pygments_lexer": "ipython3",
   "version": "3.9.7"
  }
 },
 "nbformat": 4,
 "nbformat_minor": 5
}
